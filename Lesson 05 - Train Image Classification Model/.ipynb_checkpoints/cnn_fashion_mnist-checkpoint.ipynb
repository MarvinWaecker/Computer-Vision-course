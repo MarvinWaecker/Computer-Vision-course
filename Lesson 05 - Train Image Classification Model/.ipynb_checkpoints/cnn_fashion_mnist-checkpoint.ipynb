{
 "cells": [
  {
   "cell_type": "markdown",
   "metadata": {},
   "source": [
    "# A CNN for the fashion mnist dataset"
   ]
  },
  {
   "cell_type": "markdown",
   "metadata": {},
   "source": [
    "#### Imports"
   ]
  },
  {
   "cell_type": "code",
   "execution_count": 148,
   "metadata": {},
   "outputs": [],
   "source": [
    "from keras.datasets import fashion_mnist\n",
    "from keras.utils import to_categorical\n",
    "from keras.models import Sequential\n",
    "from keras.layers import Conv2D\n",
    "from keras.layers import MaxPooling2D\n",
    "from keras.layers import Dense\n",
    "from keras.layers import Flatten\n",
    "from keras.models import load_model\n",
    "from PIL import Image\n",
    "import numpy as np\n",
    "import sys\n",
    "np.set_printoptions(threshold=sys.maxsize)\n",
    "import matplotlib.pyplot as plt"
   ]
  },
  {
   "cell_type": "markdown",
   "metadata": {},
   "source": [
    "## Dataset"
   ]
  },
  {
   "cell_type": "code",
   "execution_count": 127,
   "metadata": {},
   "outputs": [
    {
     "name": "stdout",
     "output_type": "stream",
     "text": [
      "done\n"
     ]
    }
   ],
   "source": [
    "# load dataset\n",
    "(trainX, trainY), (testX, testY) = fashion_mnist.load_data()\n",
    "print('done')"
   ]
  },
  {
   "cell_type": "code",
   "execution_count": 128,
   "metadata": {},
   "outputs": [],
   "source": [
    "# reshape dataset to have a single channel\n",
    "trainX = trainX.reshape((trainX.shape[0], 28, 28, 1))\n",
    "testX = testX.reshape((testX.shape[0], 28, 28, 1))"
   ]
  },
  {
   "cell_type": "code",
   "execution_count": 129,
   "metadata": {},
   "outputs": [],
   "source": [
    "# convert from integers to floats\n",
    "trainX, testX = trainX.astype('float32'), testX.astype('float32')"
   ]
  },
  {
   "cell_type": "markdown",
   "metadata": {},
   "source": [
    "#### Images of dataset"
   ]
  },
  {
   "cell_type": "code",
   "execution_count": 211,
   "metadata": {},
   "outputs": [],
   "source": [
    "# find index for a specific class\n",
    "def find_first_index(data, x):\n",
    "    index_list = np.where(data == x)\n",
    "    return index_list[0]\n",
    "\n",
    "# show image for numpy array\n",
    "def show_image(data, index):\n",
    "    data = np.reshape(data[index], (data.shape[1], data.shape[2]))\n",
    "    data = (data * 255).astype(np.uint8)\n",
    "    img = Image.fromarray(data)\n",
    "    img.show()\n",
    "\n",
    "# choose class number (0-10) and item number (0-:)\n",
    "# 0 = t-shirt/top\n",
    "# 1 = pants\n",
    "# 2 = pullover\n",
    "# 3 = dress\n",
    "# 4 = coat\n",
    "# 5 = sandal\n",
    "# 6 = shirt\n",
    "# 7 = sneaker\n",
    "# 8 = bag\n",
    "# 9 = ankle shoes\n",
    "class_number = 9\n",
    "item_number = 0\n",
    "index = find_first_index(trainY, class_number)[item_number]\n",
    "show_image(trainX, index)"
   ]
  },
  {
   "cell_type": "code",
   "execution_count": 106,
   "metadata": {},
   "outputs": [],
   "source": [
    "# normalize to range 0-1\n",
    "trainX, testX = trainX / 255, testX / 255"
   ]
  },
  {
   "cell_type": "code",
   "execution_count": 107,
   "metadata": {},
   "outputs": [],
   "source": [
    "# one hot encode target values\n",
    "trainY, testY = to_categorical(trainY), to_categorical(testY)"
   ]
  },
  {
   "cell_type": "markdown",
   "metadata": {},
   "source": [
    "## Model"
   ]
  },
  {
   "cell_type": "code",
   "execution_count": 34,
   "metadata": {},
   "outputs": [
    {
     "name": "stdout",
     "output_type": "stream",
     "text": [
      "Model: \"sequential_15\"\n",
      "_________________________________________________________________\n",
      "Layer (type)                 Output Shape              Param #   \n",
      "=================================================================\n",
      "conv2d_35 (Conv2D)           (None, 26, 26, 128)       1280      \n",
      "_________________________________________________________________\n",
      "max_pooling2d_35 (MaxPooling (None, 13, 13, 128)       0         \n",
      "_________________________________________________________________\n",
      "conv2d_36 (Conv2D)           (None, 11, 11, 128)       147584    \n",
      "_________________________________________________________________\n",
      "max_pooling2d_36 (MaxPooling (None, 5, 5, 128)         0         \n",
      "_________________________________________________________________\n",
      "flatten_15 (Flatten)         (None, 3200)              0         \n",
      "_________________________________________________________________\n",
      "dense_30 (Dense)             (None, 200)               640200    \n",
      "_________________________________________________________________\n",
      "dense_31 (Dense)             (None, 10)                2010      \n",
      "=================================================================\n",
      "Total params: 791,074\n",
      "Trainable params: 791,074\n",
      "Non-trainable params: 0\n",
      "_________________________________________________________________\n"
     ]
    }
   ],
   "source": [
    "# define model\n",
    "model = Sequential()\n",
    "model.add(Conv2D(128, (3,3), activation='relu', kernel_initializer='he_uniform', input_shape=(28, 28, 1)))\n",
    "model.add(MaxPooling2D(2))\n",
    "model.add(Conv2D(128, (3,3), activation='relu', kernel_initializer='he_uniform'))\n",
    "model.add(MaxPooling2D(2))\n",
    "# model.add(Conv2D(128, (3,3), activation='relu', kernel_initializer='he_uniform'))\n",
    "# model.add(MaxPooling2D(2))\n",
    "model.add(Flatten())\n",
    "model.add(Dense(200, activation='relu', kernel_initializer='he_uniform'))\n",
    "model.add(Dense(10, activation='softmax'))\n",
    "model.compile(optimizer='adam', loss='categorical_crossentropy', metrics=['accuracy'])\n",
    "model.summary()"
   ]
  },
  {
   "cell_type": "code",
   "execution_count": 35,
   "metadata": {},
   "outputs": [
    {
     "name": "stdout",
     "output_type": "stream",
     "text": [
      "Epoch 1/10\n",
      "1875/1875 - 54s - loss: 0.4118 - accuracy: 0.8506\n",
      "Epoch 2/10\n",
      "1875/1875 - 55s - loss: 0.2759 - accuracy: 0.8979\n",
      "Epoch 3/10\n",
      "1875/1875 - 55s - loss: 0.2308 - accuracy: 0.9145\n",
      "Epoch 4/10\n",
      "1875/1875 - 55s - loss: 0.1972 - accuracy: 0.9270\n",
      "Epoch 5/10\n",
      "1875/1875 - 56s - loss: 0.1705 - accuracy: 0.9361\n",
      "Epoch 6/10\n",
      "1875/1875 - 57s - loss: 0.1472 - accuracy: 0.9438\n",
      "Epoch 7/10\n",
      "1875/1875 - 56s - loss: 0.1245 - accuracy: 0.9532\n",
      "Epoch 8/10\n",
      "1875/1875 - 55s - loss: 0.1067 - accuracy: 0.9589\n",
      "Epoch 9/10\n",
      "1875/1875 - 56s - loss: 0.0905 - accuracy: 0.9653\n",
      "Epoch 10/10\n",
      "1875/1875 - 55s - loss: 0.0767 - accuracy: 0.9712\n"
     ]
    },
    {
     "data": {
      "text/plain": [
       "<tensorflow.python.keras.callbacks.History at 0x1ece2333b20>"
      ]
     },
     "execution_count": 35,
     "metadata": {},
     "output_type": "execute_result"
    }
   ],
   "source": [
    "# fit model\n",
    "model.fit(trainX, trainY, epochs=10, batch_size=32, verbose=2)"
   ]
  },
  {
   "cell_type": "code",
   "execution_count": 39,
   "metadata": {},
   "outputs": [
    {
     "name": "stdout",
     "output_type": "stream",
     "text": [
      "0.3928087651729584 0.9082000255584717\n"
     ]
    }
   ],
   "source": [
    "# evaluate model\n",
    "loss, acc = model.evaluate(testX, testY, verbose=0)\n",
    "print(loss, acc)"
   ]
  },
  {
   "cell_type": "code",
   "execution_count": 76,
   "metadata": {},
   "outputs": [],
   "source": [
    "# save model\n",
    "model.save('model_cnn_2layers_128.h5')"
   ]
  },
  {
   "cell_type": "markdown",
   "metadata": {},
   "source": [
    "## Model loaded"
   ]
  },
  {
   "cell_type": "code",
   "execution_count": 79,
   "metadata": {},
   "outputs": [],
   "source": [
    "# load model\n",
    "model_loaded = load_model('model_cnn_2layers_128.h5')"
   ]
  },
  {
   "cell_type": "code",
   "execution_count": 80,
   "metadata": {},
   "outputs": [
    {
     "data": {
      "text/plain": [
       "[0.3928087651729584, 0.9082000255584717]"
      ]
     },
     "execution_count": 80,
     "metadata": {},
     "output_type": "execute_result"
    }
   ],
   "source": [
    "# evaluate model again\n",
    "model_loaded.evaluate(testX, testY, verbose=0)"
   ]
  },
  {
   "cell_type": "code",
   "execution_count": 82,
   "metadata": {},
   "outputs": [],
   "source": [
    "# predict test data\n",
    "predictions = model_loaded.predict(testX)"
   ]
  },
  {
   "cell_type": "code",
   "execution_count": 226,
   "metadata": {},
   "outputs": [
    {
     "name": "stdout",
     "output_type": "stream",
     "text": [
      "T-shirt/top - 0.34\n",
      "Trouser - 0.00\n",
      "Pullover - 0.00\n",
      "Dress - 0.00\n",
      "Coat - 0.00\n",
      "Sandal - 0.00\n",
      "Shirt - 99.66\n",
      "Sneaker - 0.00\n",
      "Bag - 0.00\n",
      "Ankle boot - 0.00\n",
      "\n",
      "Actual label: T-shirt/top\n"
     ]
    }
   ],
   "source": [
    "# check image and prediction for specific index\n",
    "i = 1000\n",
    "show_image(testX, i)\n",
    "classes = ['T-shirt/top', 'Trouser', 'Pullover', 'Dress', 'Coat', 'Sandal', 'Shirt', 'Sneaker', 'Bag', 'Ankle boot']\n",
    "for prediction, class_ in zip(predictions[i], classes):\n",
    "    print('%s - %.2f' % (class_, prediction*100))\n",
    "print('\\nActual label: %s' % classes[testY[i]])"
   ]
  },
  {
   "cell_type": "code",
   "execution_count": 229,
   "metadata": {},
   "outputs": [
    {
     "name": "stdout",
     "output_type": "stream",
     "text": [
      "0.003423432 9.907594e-10 1.3374826e-07 1.5041659e-06 5.323102e-08 4.963958e-08 0.9965749 5.462862e-09 1.1404088e-10 1.0462664e-10\n"
     ]
    }
   ],
   "source": [
    "print(*predictions[1000])"
   ]
  },
  {
   "cell_type": "code",
   "execution_count": null,
   "metadata": {},
   "outputs": [],
   "source": []
  }
 ],
 "metadata": {
  "kernelspec": {
   "display_name": "Python 3",
   "language": "python",
   "name": "python3"
  },
  "language_info": {
   "codemirror_mode": {
    "name": "ipython",
    "version": 3
   },
   "file_extension": ".py",
   "mimetype": "text/x-python",
   "name": "python",
   "nbconvert_exporter": "python",
   "pygments_lexer": "ipython3",
   "version": "3.8.3"
  }
 },
 "nbformat": 4,
 "nbformat_minor": 4
}
