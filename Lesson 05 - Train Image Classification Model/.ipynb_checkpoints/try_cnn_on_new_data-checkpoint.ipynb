{
 "cells": [
  {
   "cell_type": "markdown",
   "metadata": {},
   "source": [
    "# Load Model for Fashion MNIST and test on new data"
   ]
  },
  {
   "cell_type": "code",
   "execution_count": 43,
   "metadata": {},
   "outputs": [],
   "source": [
    "from keras.models import load_model\n",
    "from keras.preprocessing.image import load_img\n",
    "from keras.preprocessing.image import img_to_array\n",
    "from PIL import Image\n",
    "from PIL import ImageOps\n",
    "import numpy as np"
   ]
  },
  {
   "cell_type": "markdown",
   "metadata": {},
   "source": [
    "### Data"
   ]
  },
  {
   "cell_type": "code",
   "execution_count": 44,
   "metadata": {},
   "outputs": [],
   "source": [
    "# load and preprocess image\n",
    "file_name = 'sneaker.jpg'\n",
    "img = Image.open(file_name).convert('L')\n",
    "item_class = file_name[:-4]\n",
    "img = img.resize((28, 28), resample=Image.NEAREST)\n",
    "img = ImageOps.invert(img)\n",
    "img.show()"
   ]
  },
  {
   "cell_type": "code",
   "execution_count": 45,
   "metadata": {},
   "outputs": [
    {
     "data": {
      "text/plain": [
       "(1, 28, 28, 1)"
      ]
     },
     "execution_count": 45,
     "metadata": {},
     "output_type": "execute_result"
    }
   ],
   "source": [
    "# convert image to numpy array\n",
    "pixels = np.asarray(img)\n",
    "pixels = np.reshape(pixels, (1, pixels.shape[0], pixels.shape[1], 1))\n",
    "pixels.shape"
   ]
  },
  {
   "cell_type": "markdown",
   "metadata": {},
   "source": [
    "### Model"
   ]
  },
  {
   "cell_type": "code",
   "execution_count": 46,
   "metadata": {},
   "outputs": [],
   "source": [
    "model = load_model('model_cnn_2layers_128.h5')"
   ]
  },
  {
   "cell_type": "code",
   "execution_count": 47,
   "metadata": {},
   "outputs": [],
   "source": [
    "predictions = model.predict(pixels)"
   ]
  },
  {
   "cell_type": "markdown",
   "metadata": {},
   "source": [
    "### Result"
   ]
  },
  {
   "cell_type": "code",
   "execution_count": 48,
   "metadata": {},
   "outputs": [
    {
     "name": "stdout",
     "output_type": "stream",
     "text": [
      "T-shirt/top - 0.00\n",
      "Trouser - 0.00\n",
      "Pullover - 0.00\n",
      "Dress - 0.00\n",
      "Coat - 0.00\n",
      "Sandal - 0.00\n",
      "Shirt - 0.00\n",
      "Sneaker - 100.00\n",
      "Bag - 0.00\n",
      "Ankle boot - 0.00\n",
      "\n",
      "Actual label: sneaker\n"
     ]
    }
   ],
   "source": [
    "# check image and prediction for specific index\n",
    "i = 0\n",
    "img.show()\n",
    "classes = ['T-shirt/top', 'Trouser', 'Pullover', 'Dress', 'Coat', 'Sandal', 'Shirt', 'Sneaker', 'Bag', 'Ankle boot']\n",
    "for prediction, class_ in zip(predictions[i], classes):\n",
    "    print('%s - %.2f' % (class_, prediction*100))\n",
    "print('\\nActual label: %s' % item_class)"
   ]
  },
  {
   "cell_type": "code",
   "execution_count": null,
   "metadata": {},
   "outputs": [],
   "source": []
  }
 ],
 "metadata": {
  "kernelspec": {
   "display_name": "Python 3",
   "language": "python",
   "name": "python3"
  },
  "language_info": {
   "codemirror_mode": {
    "name": "ipython",
    "version": 3
   },
   "file_extension": ".py",
   "mimetype": "text/x-python",
   "name": "python",
   "nbconvert_exporter": "python",
   "pygments_lexer": "ipython3",
   "version": "3.8.3"
  }
 },
 "nbformat": 4,
 "nbformat_minor": 4
}
